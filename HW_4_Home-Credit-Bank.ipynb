{
 "cells": [
  {
   "cell_type": "markdown",
   "id": "3445c1c1-409d-4319-ba4e-5878350e5346",
   "metadata": {},
   "source": [
    "## Домашнее задание №4\n",
    "Написать отсчёт-исследование данных Хоум-кредит банка (application_train_small.csv)"
   ]
  },
  {
   "cell_type": "code",
   "execution_count": 1,
   "id": "0e56a3a2-8994-4797-beeb-00017616096a",
   "metadata": {},
   "outputs": [],
   "source": [
    "import pandas as pd"
   ]
  },
  {
   "cell_type": "code",
   "execution_count": 2,
   "id": "69d63a28-298f-4c28-87fd-7c260d3f6097",
   "metadata": {},
   "outputs": [],
   "source": [
    "# const\n",
    "data_patch = \"data/home_credit_bank/application_train_small.csv\""
   ]
  },
  {
   "cell_type": "code",
   "execution_count": 3,
   "id": "861e9631-15aa-47a7-b774-3b739ecee2b5",
   "metadata": {},
   "outputs": [],
   "source": [
    "# data\n",
    "df = pd.read_csv(data_patch)"
   ]
  },
  {
   "cell_type": "code",
   "execution_count": null,
   "id": "fac6b1e2-4e12-4582-abd2-57e2c9c917a2",
   "metadata": {},
   "outputs": [],
   "source": []
  }
 ],
 "metadata": {
  "kernelspec": {
   "display_name": "Python 3 (ipykernel)",
   "language": "python",
   "name": "python3"
  },
  "language_info": {
   "codemirror_mode": {
    "name": "ipython",
    "version": 3
   },
   "file_extension": ".py",
   "mimetype": "text/x-python",
   "name": "python",
   "nbconvert_exporter": "python",
   "pygments_lexer": "ipython3",
   "version": "3.9.13"
  }
 },
 "nbformat": 4,
 "nbformat_minor": 5
}
