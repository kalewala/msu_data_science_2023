{
 "cells": [
  {
   "cell_type": "markdown",
   "id": "d6da446f-41bd-4343-8ae9-a51f67d26cd0",
   "metadata": {},
   "source": [
    "## Домашнее задание №1.1\n",
    "Подсчитать количество слов в документе (letter.txt) и частоту встречаемости слов без учёта регистра"
   ]
  },
  {
   "cell_type": "code",
   "execution_count": 1,
   "id": "34b7d2a6-9431-4033-a1fc-d77b96921ebd",
   "metadata": {},
   "outputs": [
    {
     "name": "stdout",
     "output_type": "stream",
     "text": [
      "Всего слов: 369\n",
      "Уникальных слов: 248\n",
      "[('я', 17), ('в', 13), ('и', 13), ('не', 11), ('ты', 9), ('вы', 5), ('мне', 5), ('вам', 4), ('меня', 4), ('но', 4)]\n"
     ]
    }
   ],
   "source": [
    "# чтение файла\n",
    "with open(\"data/letter.txt\", \"r\", encoding=\"utf-8\") as file:\n",
    "    text = file.readlines()\n",
    "\n",
    "\n",
    "dictionary = {}  # пустой словарь-счётчик\n",
    "trash = str.maketrans('', '', \"()—.,?!;:…\")  # макет для удаления мусора\n",
    "\n",
    "for string in text:\n",
    "    words = string.lower().split()  # разбивка строки по словам с понижением регистра\n",
    "    for word in words:\n",
    "        word = word.translate(trash)  # удаление мусора\n",
    "        if word == \"\":\n",
    "            continue\n",
    "\n",
    "        # добавление в словарь\n",
    "        if word not in dictionary:\n",
    "            dictionary[word] = 1\n",
    "        else:\n",
    "            dictionary[word] += 1\n",
    "\n",
    "# счётчик количества слов\n",
    "counter = 0\n",
    "for value in dictionary.values():\n",
    "    counter += value\n",
    "\n",
    "# вывод\n",
    "print(f\"Всего слов: {counter}\")\n",
    "print(f\"Уникальных слов: {len(dictionary)}\")\n",
    "print(sorted(dictionary.items(), key=lambda item: item[1], reverse=True)[:10])"
   ]
  }
 ],
 "metadata": {
  "kernelspec": {
   "display_name": "Python 3 (ipykernel)",
   "language": "python",
   "name": "python3"
  },
  "language_info": {
   "codemirror_mode": {
    "name": "ipython",
    "version": 3
   },
   "file_extension": ".py",
   "mimetype": "text/x-python",
   "name": "python",
   "nbconvert_exporter": "python",
   "pygments_lexer": "ipython3",
   "version": "3.9.13"
  }
 },
 "nbformat": 4,
 "nbformat_minor": 5
}
