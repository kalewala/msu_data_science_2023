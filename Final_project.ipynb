{
 "cells": [
  {
   "cell_type": "markdown",
   "id": "75ddf6f4-ed96-4215-ad67-63ed7daf1fe4",
   "metadata": {
    "tags": []
   },
   "source": [
    "Итоговый проект\n",
    "## КОСМИЧЕСКИЙ ТИТАНИК\n",
    "## Spaceship Titanic"
   ]
  },
  {
   "cell_type": "markdown",
   "id": "959d1129-afbd-4a76-9381-57fc7454ea42",
   "metadata": {},
   "source": [
    "#### Dataset Description"
   ]
  },
  {
   "cell_type": "markdown",
   "id": "d3b232a1-6a50-402f-9194-81ef4c5b903a",
   "metadata": {},
   "source": [
    "In this competition your task is to predict whether a passenger was transported to an alternate dimension during the _Spaceship Titanic_'s collision with the spacetime anomaly. To help you make these predictions, you're given a set of personal records recovered from the ship's damaged computer system."
   ]
  },
  {
   "cell_type": "markdown",
   "id": "a3297f77-3a91-47de-ad3e-f9d8a7935b08",
   "metadata": {},
   "source": [
    "#### File and Data Field Descriptions"
   ]
  },
  {
   "cell_type": "markdown",
   "id": "b7f1f097-65fe-4996-a92c-570b90f6f69f",
   "metadata": {},
   "source": [
    "* __train.csv__ - Personal records for about two-thirds (~8700) of the passengers, to be used as training data.\n",
    "    * ``PassengerId`` - A unique Id for each passenger. Each Id takes the form ``gggg_pp`` where ``gggg`` indicates a group the passenger is travelling with and ``pp`` is their number within the group. People in a group are often family members, but not always.\n",
    "    * ``HomePlanet`` - The planet the passenger departed from, typically their planet of permanent residence.\n",
    "    * ``CryoSleep`` - Indicates whether the passenger elected to be put into suspended animation for the duration of the voyage. Passengers in cryosleep are confined to their cabins.\n",
    "    * ``Cabin`` - The cabin number where the passenger is staying. Takes the form ``deck/num/side``, where ``side`` can be either ``P`` for _Port_ or ``S`` for _Starboard_.\n",
    "    * ``Destination`` - The planet the passenger will be debarking to.\n",
    "    * ``Age`` - The age of the passenger.\n",
    "    * ``VIP`` - Whether the passenger has paid for special VIP service during the voyage.\n",
    "    * ``RoomService``, ``FoodCourt``, ``ShoppingMall``, ``Spa``, ``VRDeck`` - Amount the passenger has billed at each of the _Spaceship Titanic_'s many luxury amenities.\n",
    "    * ``Name`` - The first and last names of the passenger.\n",
    "    * ``Transported`` - Whether the passenger was transported to another dimension. This is the target, the column you are trying to predict.\n",
    "* __test.csv__ - Personal records for the remaining one-third (~4300) of the passengers, to be used as test data. Your task is to predict the value of ``Transported`` for the passengers in this set. \n",
    "* __sample_submission.csv__ - A submission file in the correct format.\n",
    "    * ``PassengerId`` - Id for each passenger in the test set.\n",
    "    * ``Transported`` - The target. For each passenger, predict either ``True`` or ``False``."
   ]
  },
  {
   "cell_type": "markdown",
   "id": "ee64bd8c-353c-42cd-a618-a39f9b19818d",
   "metadata": {
    "tags": []
   },
   "source": [
    "#### Открытие датасета"
   ]
  },
  {
   "cell_type": "code",
   "execution_count": 1,
   "id": "e3c74862-5619-448f-af0f-44a60d66da52",
   "metadata": {},
   "outputs": [],
   "source": [
    "import pandas as pd"
   ]
  },
  {
   "cell_type": "markdown",
   "id": "78701e20-d5ad-46e4-a038-109e703c5a35",
   "metadata": {},
   "source": [
    "Отключение ограничений вывода количества строк и столбцов:"
   ]
  },
  {
   "cell_type": "code",
   "execution_count": 2,
   "id": "2196055a-7512-425e-aec3-4290db77ea81",
   "metadata": {},
   "outputs": [],
   "source": [
    "pd.set_option('display.max_columns', None, 'display.max_rows', None)"
   ]
  },
  {
   "cell_type": "markdown",
   "id": "ac04c126-db4f-4abc-8f5c-44fe7bab5f94",
   "metadata": {},
   "source": [
    "Развед. анализ данных будет проводиться для __train.csv__"
   ]
  },
  {
   "cell_type": "code",
   "execution_count": 3,
   "id": "11e0c870-2d83-4b77-a3d2-9f6523c153ee",
   "metadata": {},
   "outputs": [],
   "source": [
    "# const\n",
    "data_patch = \"data/Spaceship_Titanic/train.csv\""
   ]
  },
  {
   "cell_type": "code",
   "execution_count": 4,
   "id": "0fe7d01c-ac95-4a47-82d2-b1c8cff4cb84",
   "metadata": {},
   "outputs": [],
   "source": [
    "# data\n",
    "df = pd.read_csv(data_patch)"
   ]
  },
  {
   "cell_type": "markdown",
   "id": "e97e10d7-7d29-4e50-b887-b1ce1796679b",
   "metadata": {},
   "source": [
    "#### Обзор датасета"
   ]
  },
  {
   "cell_type": "markdown",
   "id": "b7b40bbc-699a-408f-adc5-437244af691f",
   "metadata": {},
   "source": [
    "Информация о наборе данных:"
   ]
  },
  {
   "cell_type": "code",
   "execution_count": 5,
   "id": "42ba3ace-9e46-4bab-84c7-757a39b9f9c4",
   "metadata": {},
   "outputs": [
    {
     "name": "stdout",
     "output_type": "stream",
     "text": [
      "<class 'pandas.core.frame.DataFrame'>\n",
      "RangeIndex: 8693 entries, 0 to 8692\n",
      "Data columns (total 14 columns):\n",
      " #   Column        Non-Null Count  Dtype  \n",
      "---  ------        --------------  -----  \n",
      " 0   PassengerId   8693 non-null   object \n",
      " 1   HomePlanet    8492 non-null   object \n",
      " 2   CryoSleep     8476 non-null   object \n",
      " 3   Cabin         8494 non-null   object \n",
      " 4   Destination   8511 non-null   object \n",
      " 5   Age           8514 non-null   float64\n",
      " 6   VIP           8490 non-null   object \n",
      " 7   RoomService   8512 non-null   float64\n",
      " 8   FoodCourt     8510 non-null   float64\n",
      " 9   ShoppingMall  8485 non-null   float64\n",
      " 10  Spa           8510 non-null   float64\n",
      " 11  VRDeck        8505 non-null   float64\n",
      " 12  Name          8493 non-null   object \n",
      " 13  Transported   8693 non-null   bool   \n",
      "dtypes: bool(1), float64(6), object(7)\n",
      "memory usage: 891.5+ KB\n"
     ]
    }
   ],
   "source": [
    "df.info()"
   ]
  },
  {
   "cell_type": "markdown",
   "id": "38b5847b-57b4-40f4-9eca-d6612acf4b9c",
   "metadata": {},
   "source": [
    "Описательная статистика численных столбцов:"
   ]
  },
  {
   "cell_type": "code",
   "execution_count": 6,
   "id": "1d30bdfe-d889-4a15-b16c-facd79450978",
   "metadata": {},
   "outputs": [
    {
     "data": {
      "text/html": [
       "<div>\n",
       "<style scoped>\n",
       "    .dataframe tbody tr th:only-of-type {\n",
       "        vertical-align: middle;\n",
       "    }\n",
       "\n",
       "    .dataframe tbody tr th {\n",
       "        vertical-align: top;\n",
       "    }\n",
       "\n",
       "    .dataframe thead th {\n",
       "        text-align: right;\n",
       "    }\n",
       "</style>\n",
       "<table border=\"1\" class=\"dataframe\">\n",
       "  <thead>\n",
       "    <tr style=\"text-align: right;\">\n",
       "      <th></th>\n",
       "      <th>Age</th>\n",
       "      <th>RoomService</th>\n",
       "      <th>FoodCourt</th>\n",
       "      <th>ShoppingMall</th>\n",
       "      <th>Spa</th>\n",
       "      <th>VRDeck</th>\n",
       "    </tr>\n",
       "  </thead>\n",
       "  <tbody>\n",
       "    <tr>\n",
       "      <th>count</th>\n",
       "      <td>8514.000000</td>\n",
       "      <td>8512.000000</td>\n",
       "      <td>8510.000000</td>\n",
       "      <td>8485.000000</td>\n",
       "      <td>8510.000000</td>\n",
       "      <td>8505.000000</td>\n",
       "    </tr>\n",
       "    <tr>\n",
       "      <th>mean</th>\n",
       "      <td>28.827930</td>\n",
       "      <td>224.687617</td>\n",
       "      <td>458.077203</td>\n",
       "      <td>173.729169</td>\n",
       "      <td>311.138778</td>\n",
       "      <td>304.854791</td>\n",
       "    </tr>\n",
       "    <tr>\n",
       "      <th>std</th>\n",
       "      <td>14.489021</td>\n",
       "      <td>666.717663</td>\n",
       "      <td>1611.489240</td>\n",
       "      <td>604.696458</td>\n",
       "      <td>1136.705535</td>\n",
       "      <td>1145.717189</td>\n",
       "    </tr>\n",
       "    <tr>\n",
       "      <th>min</th>\n",
       "      <td>0.000000</td>\n",
       "      <td>0.000000</td>\n",
       "      <td>0.000000</td>\n",
       "      <td>0.000000</td>\n",
       "      <td>0.000000</td>\n",
       "      <td>0.000000</td>\n",
       "    </tr>\n",
       "    <tr>\n",
       "      <th>25%</th>\n",
       "      <td>19.000000</td>\n",
       "      <td>0.000000</td>\n",
       "      <td>0.000000</td>\n",
       "      <td>0.000000</td>\n",
       "      <td>0.000000</td>\n",
       "      <td>0.000000</td>\n",
       "    </tr>\n",
       "    <tr>\n",
       "      <th>50%</th>\n",
       "      <td>27.000000</td>\n",
       "      <td>0.000000</td>\n",
       "      <td>0.000000</td>\n",
       "      <td>0.000000</td>\n",
       "      <td>0.000000</td>\n",
       "      <td>0.000000</td>\n",
       "    </tr>\n",
       "    <tr>\n",
       "      <th>75%</th>\n",
       "      <td>38.000000</td>\n",
       "      <td>47.000000</td>\n",
       "      <td>76.000000</td>\n",
       "      <td>27.000000</td>\n",
       "      <td>59.000000</td>\n",
       "      <td>46.000000</td>\n",
       "    </tr>\n",
       "    <tr>\n",
       "      <th>max</th>\n",
       "      <td>79.000000</td>\n",
       "      <td>14327.000000</td>\n",
       "      <td>29813.000000</td>\n",
       "      <td>23492.000000</td>\n",
       "      <td>22408.000000</td>\n",
       "      <td>24133.000000</td>\n",
       "    </tr>\n",
       "  </tbody>\n",
       "</table>\n",
       "</div>"
      ],
      "text/plain": [
       "               Age   RoomService     FoodCourt  ShoppingMall           Spa  \\\n",
       "count  8514.000000   8512.000000   8510.000000   8485.000000   8510.000000   \n",
       "mean     28.827930    224.687617    458.077203    173.729169    311.138778   \n",
       "std      14.489021    666.717663   1611.489240    604.696458   1136.705535   \n",
       "min       0.000000      0.000000      0.000000      0.000000      0.000000   \n",
       "25%      19.000000      0.000000      0.000000      0.000000      0.000000   \n",
       "50%      27.000000      0.000000      0.000000      0.000000      0.000000   \n",
       "75%      38.000000     47.000000     76.000000     27.000000     59.000000   \n",
       "max      79.000000  14327.000000  29813.000000  23492.000000  22408.000000   \n",
       "\n",
       "             VRDeck  \n",
       "count   8505.000000  \n",
       "mean     304.854791  \n",
       "std     1145.717189  \n",
       "min        0.000000  \n",
       "25%        0.000000  \n",
       "50%        0.000000  \n",
       "75%       46.000000  \n",
       "max    24133.000000  "
      ]
     },
     "execution_count": 6,
     "metadata": {},
     "output_type": "execute_result"
    }
   ],
   "source": [
    "df.describe()"
   ]
  },
  {
   "cell_type": "markdown",
   "id": "0025b58d-e22d-4358-ba67-b86434fcd6f0",
   "metadata": {},
   "source": [
    "Категориальные признаки:"
   ]
  },
  {
   "cell_type": "code",
   "execution_count": 7,
   "id": "5de571e0-de7d-45fe-aeae-4da974c14fa9",
   "metadata": {},
   "outputs": [
    {
     "data": {
      "text/html": [
       "<div>\n",
       "<style scoped>\n",
       "    .dataframe tbody tr th:only-of-type {\n",
       "        vertical-align: middle;\n",
       "    }\n",
       "\n",
       "    .dataframe tbody tr th {\n",
       "        vertical-align: top;\n",
       "    }\n",
       "\n",
       "    .dataframe thead th {\n",
       "        text-align: right;\n",
       "    }\n",
       "</style>\n",
       "<table border=\"1\" class=\"dataframe\">\n",
       "  <thead>\n",
       "    <tr style=\"text-align: right;\">\n",
       "      <th></th>\n",
       "      <th>PassengerId</th>\n",
       "      <th>HomePlanet</th>\n",
       "      <th>CryoSleep</th>\n",
       "      <th>Cabin</th>\n",
       "      <th>Destination</th>\n",
       "      <th>VIP</th>\n",
       "      <th>Name</th>\n",
       "    </tr>\n",
       "  </thead>\n",
       "  <tbody>\n",
       "    <tr>\n",
       "      <th>count</th>\n",
       "      <td>8693</td>\n",
       "      <td>8492</td>\n",
       "      <td>8476</td>\n",
       "      <td>8494</td>\n",
       "      <td>8511</td>\n",
       "      <td>8490</td>\n",
       "      <td>8493</td>\n",
       "    </tr>\n",
       "    <tr>\n",
       "      <th>unique</th>\n",
       "      <td>8693</td>\n",
       "      <td>3</td>\n",
       "      <td>2</td>\n",
       "      <td>6560</td>\n",
       "      <td>3</td>\n",
       "      <td>2</td>\n",
       "      <td>8473</td>\n",
       "    </tr>\n",
       "    <tr>\n",
       "      <th>top</th>\n",
       "      <td>0001_01</td>\n",
       "      <td>Earth</td>\n",
       "      <td>False</td>\n",
       "      <td>G/734/S</td>\n",
       "      <td>TRAPPIST-1e</td>\n",
       "      <td>False</td>\n",
       "      <td>Gollux Reedall</td>\n",
       "    </tr>\n",
       "    <tr>\n",
       "      <th>freq</th>\n",
       "      <td>1</td>\n",
       "      <td>4602</td>\n",
       "      <td>5439</td>\n",
       "      <td>8</td>\n",
       "      <td>5915</td>\n",
       "      <td>8291</td>\n",
       "      <td>2</td>\n",
       "    </tr>\n",
       "  </tbody>\n",
       "</table>\n",
       "</div>"
      ],
      "text/plain": [
       "       PassengerId HomePlanet CryoSleep    Cabin  Destination    VIP  \\\n",
       "count         8693       8492      8476     8494         8511   8490   \n",
       "unique        8693          3         2     6560            3      2   \n",
       "top        0001_01      Earth     False  G/734/S  TRAPPIST-1e  False   \n",
       "freq             1       4602      5439        8         5915   8291   \n",
       "\n",
       "                  Name  \n",
       "count             8493  \n",
       "unique            8473  \n",
       "top     Gollux Reedall  \n",
       "freq                 2  "
      ]
     },
     "execution_count": 7,
     "metadata": {},
     "output_type": "execute_result"
    }
   ],
   "source": [
    "df.describe(include=['object'])"
   ]
  },
  {
   "cell_type": "code",
   "execution_count": 8,
   "id": "4adb7abf-6227-4d7c-8cda-f3c229f69b5c",
   "metadata": {},
   "outputs": [
    {
     "data": {
      "text/plain": [
       "Earth     4602\n",
       "Europa    2131\n",
       "Mars      1759\n",
       "Name: HomePlanet, dtype: int64"
      ]
     },
     "execution_count": 8,
     "metadata": {},
     "output_type": "execute_result"
    }
   ],
   "source": [
    "df[\"HomePlanet\"].value_counts()"
   ]
  },
  {
   "cell_type": "code",
   "execution_count": 9,
   "id": "40c7ddfa-7471-4c28-afb3-612461a43337",
   "metadata": {},
   "outputs": [
    {
     "data": {
      "text/plain": [
       "False    5439\n",
       "True     3037\n",
       "Name: CryoSleep, dtype: int64"
      ]
     },
     "execution_count": 9,
     "metadata": {},
     "output_type": "execute_result"
    }
   ],
   "source": [
    "df[\"CryoSleep\"].value_counts()"
   ]
  },
  {
   "cell_type": "code",
   "execution_count": 10,
   "id": "568afa35-ff59-44ac-916c-df3baf59ba85",
   "metadata": {},
   "outputs": [
    {
     "data": {
      "text/plain": [
       "6560"
      ]
     },
     "execution_count": 10,
     "metadata": {},
     "output_type": "execute_result"
    }
   ],
   "source": [
    "df[\"Cabin\"].nunique()"
   ]
  },
  {
   "cell_type": "code",
   "execution_count": 11,
   "id": "d57540b1-104d-4c4c-a8d3-13d5142c4a55",
   "metadata": {},
   "outputs": [
    {
     "data": {
      "text/plain": [
       "TRAPPIST-1e      5915\n",
       "55 Cancri e      1800\n",
       "PSO J318.5-22     796\n",
       "Name: Destination, dtype: int64"
      ]
     },
     "execution_count": 11,
     "metadata": {},
     "output_type": "execute_result"
    }
   ],
   "source": [
    "df[\"Destination\"].value_counts()"
   ]
  },
  {
   "cell_type": "code",
   "execution_count": 12,
   "id": "3461fffb-2d51-4079-a2f0-dff5ffd06b82",
   "metadata": {},
   "outputs": [
    {
     "data": {
      "text/plain": [
       "False    8291\n",
       "True      199\n",
       "Name: VIP, dtype: int64"
      ]
     },
     "execution_count": 12,
     "metadata": {},
     "output_type": "execute_result"
    }
   ],
   "source": [
    "df[\"VIP\"].value_counts()"
   ]
  },
  {
   "cell_type": "code",
   "execution_count": 13,
   "id": "e64ebb7a-42cd-4a14-95b1-d2f9a013c516",
   "metadata": {},
   "outputs": [
    {
     "data": {
      "text/plain": [
       "True     4378\n",
       "False    4315\n",
       "Name: Transported, dtype: int64"
      ]
     },
     "execution_count": 13,
     "metadata": {},
     "output_type": "execute_result"
    }
   ],
   "source": [
    "df[\"Transported\"].value_counts()"
   ]
  },
  {
   "cell_type": "markdown",
   "id": "c782c9ba-5e69-4f22-a576-28c300512f02",
   "metadata": {},
   "source": [
    "Фактически значения колонок ``CryoSleep`` и ``VIP`` являются бинарными, хотя определены как категориальные"
   ]
  },
  {
   "cell_type": "markdown",
   "id": "ed2b4631-d3fa-4b30-af06-51ec93e2f29c",
   "metadata": {},
   "source": [
    "#### Пропуски"
   ]
  },
  {
   "cell_type": "markdown",
   "id": "af69a914-591e-4676-b0fa-be9d88b52ad0",
   "metadata": {},
   "source": [
    "Количество пропусков по столбцам:"
   ]
  },
  {
   "cell_type": "code",
   "execution_count": 14,
   "id": "a1b13448-7699-4320-b25e-1a6867cea348",
   "metadata": {},
   "outputs": [
    {
     "data": {
      "text/plain": [
       "PassengerId       0\n",
       "HomePlanet      201\n",
       "CryoSleep       217\n",
       "Cabin           199\n",
       "Destination     182\n",
       "Age             179\n",
       "VIP             203\n",
       "RoomService     181\n",
       "FoodCourt       183\n",
       "ShoppingMall    208\n",
       "Spa             183\n",
       "VRDeck          188\n",
       "Name            200\n",
       "Transported       0\n",
       "dtype: int64"
      ]
     },
     "execution_count": 14,
     "metadata": {},
     "output_type": "execute_result"
    }
   ],
   "source": [
    "df.isnull().sum()"
   ]
  },
  {
   "cell_type": "markdown",
   "id": "a02fd457-8eb3-4728-b384-581425b7aa01",
   "metadata": {},
   "source": [
    "Доля пропусков по столбцам:"
   ]
  },
  {
   "cell_type": "code",
   "execution_count": 15,
   "id": "5e0dc0c2-a407-4d60-9289-d9022c6e9328",
   "metadata": {},
   "outputs": [
    {
     "data": {
      "text/plain": [
       "PassengerId     0.000000\n",
       "HomePlanet      0.023122\n",
       "CryoSleep       0.024963\n",
       "Cabin           0.022892\n",
       "Destination     0.020936\n",
       "Age             0.020591\n",
       "VIP             0.023352\n",
       "RoomService     0.020821\n",
       "FoodCourt       0.021051\n",
       "ShoppingMall    0.023927\n",
       "Spa             0.021051\n",
       "VRDeck          0.021627\n",
       "Name            0.023007\n",
       "Transported     0.000000\n",
       "dtype: float64"
      ]
     },
     "execution_count": 15,
     "metadata": {},
     "output_type": "execute_result"
    }
   ],
   "source": [
    "df.isnull().sum() / df.shape[0]"
   ]
  },
  {
   "cell_type": "markdown",
   "id": "b546684e-79d0-43d2-931b-5e8a4a07de15",
   "metadata": {},
   "source": [
    "Доля пропусков менее 3%. Общая сумма строк с пропусками:"
   ]
  },
  {
   "cell_type": "code",
   "execution_count": 16,
   "id": "c7a2d60b-eb7e-4752-8b61-19004354e63f",
   "metadata": {},
   "outputs": [
    {
     "data": {
      "text/plain": [
       "2087"
      ]
     },
     "execution_count": 16,
     "metadata": {},
     "output_type": "execute_result"
    }
   ],
   "source": [
    "df.shape[0] - df.dropna().shape[0]"
   ]
  },
  {
   "cell_type": "markdown",
   "id": "6cdcec4e-6da4-477d-96c3-0eb9659dde90",
   "metadata": {},
   "source": [
    "2087 строк из 8693 имеют пропуски. В дальнейшем это нужно будет учитывать."
   ]
  },
  {
   "cell_type": "markdown",
   "id": "c64b445e-b018-4093-a518-97f4f09ecf39",
   "metadata": {},
   "source": [
    "#### Корреляции и зависимость целевой переменной"
   ]
  },
  {
   "cell_type": "code",
   "execution_count": 17,
   "id": "10ade9fc-d897-4b4f-aeb5-27e54dc25cb6",
   "metadata": {},
   "outputs": [],
   "source": [
    "import seaborn as sns"
   ]
  },
  {
   "cell_type": "markdown",
   "id": "50bc148c-556b-4298-8bd1-69b17286840c",
   "metadata": {},
   "source": [
    "Тепловая карта корреляций численных и бинарных столбцов:"
   ]
  },
  {
   "cell_type": "code",
   "execution_count": 18,
   "id": "7034d1dd-e3e1-4ce0-94bc-54c4938f7ccc",
   "metadata": {},
   "outputs": [
    {
     "data": {
      "text/plain": [
       "<AxesSubplot:>"
      ]
     },
     "execution_count": 18,
     "metadata": {},
     "output_type": "execute_result"
    },
    {
     "data": {
      "image/png": "[encoded data removed]",
      "text/plain": [
       "<Figure size 640x480 with 2 Axes>"
      ]
     },
     "metadata": {},
     "output_type": "display_data"
    }
   ],
   "source": [
    "#df = df.astype({\"CryoSleep\": 'bool', \"VIP\": 'bool'})  # бинаризация NaN => True\n",
    "sns.heatmap(\n",
    "    df.astype({\"CryoSleep\": 'bool', \"VIP\": 'bool'}).loc[:, [\"CryoSleep\", \"Age\", \"VIP\", \"RoomService\", \"FoodCourt\", \"ShoppingMall\", \"Spa\", \"VRDeck\", \"Transported\"]].corr(),\n",
    "    annot=True\n",
    ")"
   ]
  },
  {
   "cell_type": "markdown",
   "id": "f3f66b9a-ffcf-4846-91a5-631d0aa29789",
   "metadata": {},
   "source": [
    "Целевая переменная ``Transported`` имеет наиболее высокую корреляцию (0.45) с переменной ``CryoSleep``. Все остальные корреляции между переменными незначительны."
   ]
  },
  {
   "cell_type": "markdown",
   "id": "5524cc6a-d102-4459-a99a-9e2f29ec98fd",
   "metadata": {},
   "source": [
    "#### 1. Модель логистической регрессии"
   ]
  },
  {
   "cell_type": "markdown",
   "id": "e67c0d6a-303a-4287-8b81-09ec242c63da",
   "metadata": {},
   "source": [
    "Выбор значений и заполнение пропусков в датасете:"
   ]
  },
  {
   "cell_type": "code",
   "execution_count": 90,
   "id": "da6c557e-0c93-4eb6-b943-5448fbef4678",
   "metadata": {},
   "outputs": [],
   "source": [
    "df1 = df.drop(['PassengerId', 'Cabin', 'Name'],axis=1)#.dropna()  # выбор признаков для модели"
   ]
  },
  {
   "cell_type": "code",
   "execution_count": 91,
   "id": "833e846b-600a-46af-b392-bcf00f20504b",
   "metadata": {},
   "outputs": [],
   "source": [
    "df1 = pd.get_dummies(data=df1, dummy_na=True)  # бинариация категориальных признаков методом One-hot-кодирование"
   ]
  },
  {
   "cell_type": "code",
   "execution_count": 92,
   "id": "b3636b3b-2e9c-47e1-9b49-2883a31007aa",
   "metadata": {},
   "outputs": [],
   "source": [
    "#df1 = df1.dropna()  # удаление оставшихся пропусков\n",
    "df1 = df1.fillna(df1.mean())  # заполнение пропусков признаков float64 средними значениями"
   ]
  },
  {
   "cell_type": "markdown",
   "id": "2dc48c91-d9e4-4d47-b97c-a7beccce2fcc",
   "metadata": {},
   "source": [
    "Обучение модели:"
   ]
  },
  {
   "cell_type": "code",
   "execution_count": 93,
   "id": "30ec8c7c-fe4e-42df-8ce1-60c2f88f431b",
   "metadata": {},
   "outputs": [
    {
     "data": {
      "text/plain": [
       "LogisticRegression()"
      ]
     },
     "execution_count": 93,
     "metadata": {},
     "output_type": "execute_result"
    }
   ],
   "source": [
    "from sklearn.model_selection import train_test_split\n",
    "from sklearn.preprocessing import StandardScaler\n",
    "from sklearn.linear_model import LogisticRegression\n",
    "\n",
    "\n",
    "X = df1.drop('Transported', axis=1)\n",
    "y = df1['Transported']\n",
    "\n",
    "X_train, X_test, y_train, y_test = train_test_split(X,\n",
    "                                                    y,\n",
    "                                                    stratify=y,\n",
    "                                                    test_size=0.2,\n",
    "                                                    random_state=1)\n",
    "\n",
    "sc = StandardScaler()\n",
    "X_train_std = sc.fit_transform(X_train)\n",
    "X_test_std = sc.transform(X_test)\n",
    "\n",
    "clf = LogisticRegression()\n",
    "clf.fit(X_train_std, y_train)"
   ]
  },
  {
   "cell_type": "markdown",
   "id": "e0aae584-c1de-494c-8ab9-e5b287dc01be",
   "metadata": {},
   "source": [
    "Значения влияния весов каждого признака на целевую переменную:"
   ]
  },
  {
   "cell_type": "code",
   "execution_count": 94,
   "id": "94eb21d4-e4d6-42ee-8b02-7be53f266133",
   "metadata": {},
   "outputs": [
    {
     "data": {
      "text/html": [
       "<div>\n",
       "<style scoped>\n",
       "    .dataframe tbody tr th:only-of-type {\n",
       "        vertical-align: middle;\n",
       "    }\n",
       "\n",
       "    .dataframe tbody tr th {\n",
       "        vertical-align: top;\n",
       "    }\n",
       "\n",
       "    .dataframe thead th {\n",
       "        text-align: right;\n",
       "    }\n",
       "</style>\n",
       "<table border=\"1\" class=\"dataframe\">\n",
       "  <thead>\n",
       "    <tr style=\"text-align: right;\">\n",
       "      <th></th>\n",
       "      <th>Coeffecient</th>\n",
       "    </tr>\n",
       "  </thead>\n",
       "  <tbody>\n",
       "    <tr>\n",
       "      <th>Age</th>\n",
       "      <td>-0.124134</td>\n",
       "    </tr>\n",
       "    <tr>\n",
       "      <th>RoomService</th>\n",
       "      <td>-0.901672</td>\n",
       "    </tr>\n",
       "    <tr>\n",
       "      <th>FoodCourt</th>\n",
       "      <td>0.776559</td>\n",
       "    </tr>\n",
       "    <tr>\n",
       "      <th>ShoppingMall</th>\n",
       "      <td>0.333090</td>\n",
       "    </tr>\n",
       "    <tr>\n",
       "      <th>Spa</th>\n",
       "      <td>-1.935685</td>\n",
       "    </tr>\n",
       "    <tr>\n",
       "      <th>VRDeck</th>\n",
       "      <td>-2.021702</td>\n",
       "    </tr>\n",
       "    <tr>\n",
       "      <th>HomePlanet_Earth</th>\n",
       "      <td>-0.415456</td>\n",
       "    </tr>\n",
       "    <tr>\n",
       "      <th>HomePlanet_Europa</th>\n",
       "      <td>0.549984</td>\n",
       "    </tr>\n",
       "    <tr>\n",
       "      <th>HomePlanet_Mars</th>\n",
       "      <td>-0.054146</td>\n",
       "    </tr>\n",
       "    <tr>\n",
       "      <th>HomePlanet_nan</th>\n",
       "      <td>-0.052282</td>\n",
       "    </tr>\n",
       "    <tr>\n",
       "      <th>CryoSleep_False</th>\n",
       "      <td>-0.303301</td>\n",
       "    </tr>\n",
       "    <tr>\n",
       "      <th>CryoSleep_True</th>\n",
       "      <td>0.324682</td>\n",
       "    </tr>\n",
       "    <tr>\n",
       "      <th>CryoSleep_nan</th>\n",
       "      <td>-0.050245</td>\n",
       "    </tr>\n",
       "    <tr>\n",
       "      <th>Destination_55 Cancri e</th>\n",
       "      <td>0.098488</td>\n",
       "    </tr>\n",
       "    <tr>\n",
       "      <th>Destination_PSO J318.5-22</th>\n",
       "      <td>-0.041865</td>\n",
       "    </tr>\n",
       "    <tr>\n",
       "      <th>Destination_TRAPPIST-1e</th>\n",
       "      <td>-0.077626</td>\n",
       "    </tr>\n",
       "    <tr>\n",
       "      <th>Destination_nan</th>\n",
       "      <td>0.057780</td>\n",
       "    </tr>\n",
       "    <tr>\n",
       "      <th>VIP_False</th>\n",
       "      <td>0.024687</td>\n",
       "    </tr>\n",
       "    <tr>\n",
       "      <th>VIP_True</th>\n",
       "      <td>-0.048999</td>\n",
       "    </tr>\n",
       "    <tr>\n",
       "      <th>VIP_nan</th>\n",
       "      <td>0.014891</td>\n",
       "    </tr>\n",
       "  </tbody>\n",
       "</table>\n",
       "</div>"
      ],
      "text/plain": [
       "                           Coeffecient\n",
       "Age                          -0.124134\n",
       "RoomService                  -0.901672\n",
       "FoodCourt                     0.776559\n",
       "ShoppingMall                  0.333090\n",
       "Spa                          -1.935685\n",
       "VRDeck                       -2.021702\n",
       "HomePlanet_Earth             -0.415456\n",
       "HomePlanet_Europa             0.549984\n",
       "HomePlanet_Mars              -0.054146\n",
       "HomePlanet_nan               -0.052282\n",
       "CryoSleep_False              -0.303301\n",
       "CryoSleep_True                0.324682\n",
       "CryoSleep_nan                -0.050245\n",
       "Destination_55 Cancri e       0.098488\n",
       "Destination_PSO J318.5-22    -0.041865\n",
       "Destination_TRAPPIST-1e      -0.077626\n",
       "Destination_nan               0.057780\n",
       "VIP_False                     0.024687\n",
       "VIP_True                     -0.048999\n",
       "VIP_nan                       0.014891"
      ]
     },
     "execution_count": 94,
     "metadata": {},
     "output_type": "execute_result"
    }
   ],
   "source": [
    "df1_coefs = pd.DataFrame(data=clf.coef_, columns=X.columns).T\n",
    "df1_coefs.columns = ['Coeffecient']\n",
    "df1_coefs"
   ]
  },
  {
   "cell_type": "markdown",
   "id": "4cd98051-3c77-4fa5-88e5-b28807a708f1",
   "metadata": {},
   "source": [
    "Метрики:"
   ]
  },
  {
   "cell_type": "code",
   "execution_count": 95,
   "id": "429b3fcd-db0f-4eca-bfb8-9fe374a69967",
   "metadata": {},
   "outputs": [
    {
     "name": "stdout",
     "output_type": "stream",
     "text": [
      "Accuracy Train: 0.7863100373885533\n",
      "Accuracy Test: 0.7883841288096607\n"
     ]
    }
   ],
   "source": [
    "from sklearn.metrics import accuracy_score\n",
    "\n",
    "\n",
    "# получаем предсказания (ответы) алгоритма\n",
    "y_pred = clf.predict(X_test_std)\n",
    "y_pred_train = clf.predict(X_train_std)\n",
    "\n",
    "print(f'Accuracy Train: {accuracy_score(y_train, y_pred_train)}')\n",
    "print(f'Accuracy Test: {accuracy_score(y_test, y_pred)}')"
   ]
  },
  {
   "cell_type": "code",
   "execution_count": 96,
   "id": "ed9e182c-ead1-4826-aa1f-bbffebc48114",
   "metadata": {},
   "outputs": [
    {
     "name": "stdout",
     "output_type": "stream",
     "text": [
      "Precision Train: 0.7809364548494984\n",
      "Precision Test: 0.7879818594104309\n",
      "\n",
      "Recall Train: 0.8001142204454598\n",
      "Recall Test: 0.79337899543379\n"
     ]
    }
   ],
   "source": [
    "from sklearn.metrics import precision_score, recall_score\n",
    "\n",
    "\n",
    "print(f'Precision Train: {precision_score(y_train, y_pred_train)}')\n",
    "print(f'Precision Test: {precision_score(y_test, y_pred)}\\n')\n",
    "\n",
    "print(f'Recall Train: {recall_score(y_train, y_pred_train)}')\n",
    "print(f'Recall Test: {recall_score(y_test, y_pred)}')"
   ]
  },
  {
   "cell_type": "code",
   "execution_count": 97,
   "id": "0f3c12b6-1f37-4284-9ba5-d3c2b4fd1d80",
   "metadata": {},
   "outputs": [
    {
     "name": "stdout",
     "output_type": "stream",
     "text": [
      "F1 Train: 0.7904090267983075\n",
      "F1 Test: 0.7906712172923777\n"
     ]
    }
   ],
   "source": [
    "from sklearn.metrics import f1_score\n",
    "\n",
    "\n",
    "print(f'F1 Train: {f1_score(y_train, y_pred_train)}')\n",
    "print(f'F1 Test: {f1_score(y_test, y_pred)}')"
   ]
  },
  {
   "cell_type": "code",
   "execution_count": 98,
   "id": "bd77aca8-a552-416f-abb8-c4dff5df2292",
   "metadata": {},
   "outputs": [
    {
     "name": "stdout",
     "output_type": "stream",
     "text": [
      "ROC-AUC Train: 0.8699166194056962\n",
      "ROC-AUC Test: 0.877324772350884\n"
     ]
    }
   ],
   "source": [
    "from sklearn.metrics import roc_auc_score\n",
    "\n",
    "\n",
    "y_pred_score = clf.predict_proba(X_test_std)\n",
    "y_pred_train_score = clf.predict_proba(X_train_std)\n",
    "\n",
    "print(f'ROC-AUC Train: {roc_auc_score(y_train, y_pred_train_score[:,1])}')\n",
    "print(f'ROC-AUC Test: {roc_auc_score(y_test, y_pred_score[:,1])}')"
   ]
  },
  {
   "cell_type": "code",
   "execution_count": null,
   "id": "66631464-ab23-45e4-a6ef-507d89fe9c71",
   "metadata": {},
   "outputs": [],
   "source": []
  }
 ],
 "metadata": {
  "kernelspec": {
   "display_name": "Python 3 (ipykernel)",
   "language": "python",
   "name": "python3"
  },
  "language_info": {
   "codemirror_mode": {
    "name": "ipython",
    "version": 3
   },
   "file_extension": ".py",
   "mimetype": "text/x-python",
   "name": "python",
   "nbconvert_exporter": "python",
   "pygments_lexer": "ipython3",
   "version": "3.9.13"
  }
 },
 "nbformat": 4,
 "nbformat_minor": 5
}
