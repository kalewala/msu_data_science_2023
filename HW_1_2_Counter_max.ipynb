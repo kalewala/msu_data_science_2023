{
 "cells": [
  {
   "cell_type": "markdown",
   "id": "ef19f774-e1c9-4b47-bd40-c315c87a07c9",
   "metadata": {
    "tags": []
   },
   "source": [
    "## Домашнее задание №1.2\n",
    "Найти в строке из 0 и 1 максимальную последовательность из единиц"
   ]
  },
  {
   "cell_type": "markdown",
   "id": "4159aa80-c9f9-4288-a831-b79f5e044be6",
   "metadata": {},
   "source": [
    "#### Генерация случайной строки"
   ]
  },
  {
   "cell_type": "code",
   "execution_count": 1,
   "id": "1d4e4da1-9b6c-44aa-b128-deec956bd207",
   "metadata": {},
   "outputs": [
    {
     "name": "stdout",
     "output_type": "stream",
     "text": [
      "0101111001101010010001011000001110100011111011101011010010010001010111011110001110011001101111011001\n"
     ]
    }
   ],
   "source": [
    "import random\n",
    "\n",
    "\n",
    "# случайная строка из \"0\" и \"1\"\n",
    "random_string = ''.join(random.choice(\"01\") for i in range(10**6))\n",
    "print(random_string[:100])"
   ]
  },
  {
   "cell_type": "markdown",
   "id": "bf1593cd-b265-4b2b-b811-fe12f6dc18e8",
   "metadata": {},
   "source": [
    "#### Алгоритмы поиска"
   ]
  },
  {
   "cell_type": "code",
   "execution_count": 2,
   "id": "95f94277-3bb3-4081-9e6b-2eeffcfc710f",
   "metadata": {},
   "outputs": [
    {
     "name": "stdout",
     "output_type": "stream",
     "text": [
      "Wall time: 0 ns\n",
      "22\n"
     ]
    }
   ],
   "source": [
    "# поиск максимальной последовательности из 1 через разбивку строки в список\n",
    "%time\n",
    "#lst = random_string.split(\"0\")\n",
    "print(max(len(x) for x in random_string.split(\"0\")))"
   ]
  },
  {
   "cell_type": "code",
   "execution_count": 3,
   "id": "31e11b2c-0b18-473d-8bed-cee40836873a",
   "metadata": {},
   "outputs": [
    {
     "name": "stdout",
     "output_type": "stream",
     "text": [
      "Wall time: 0 ns\n",
      "22\n"
     ]
    }
   ],
   "source": [
    "#поиск по счётчикам через цикл\n",
    "%time\n",
    "counter = 0\n",
    "temp_count = 0\n",
    "for i in random_string:\n",
    "    if i == \"1\":\n",
    "        temp_count += 1\n",
    "    else:\n",
    "        if temp_count > counter:\n",
    "            counter = temp_count\n",
    "        temp_count = 0\n",
    "if temp_count > counter:\n",
    "    counter = temp_count\n",
    "print(counter)"
   ]
  }
 ],
 "metadata": {
  "kernelspec": {
   "display_name": "Python 3 (ipykernel)",
   "language": "python",
   "name": "python3"
  },
  "language_info": {
   "codemirror_mode": {
    "name": "ipython",
    "version": 3
   },
   "file_extension": ".py",
   "mimetype": "text/x-python",
   "name": "python",
   "nbconvert_exporter": "python",
   "pygments_lexer": "ipython3",
   "version": "3.9.13"
  }
 },
 "nbformat": 4,
 "nbformat_minor": 5
}
