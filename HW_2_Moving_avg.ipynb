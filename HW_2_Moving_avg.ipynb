{
 "cells": [
  {
   "cell_type": "markdown",
   "id": "75fec203-8120-4032-b3f3-6a2524665019",
   "metadata": {},
   "source": [
    "## Домашнее задание №2\n",
    "Даны одномерный массив A и число n. Вычислите массив B, в котором i-й элемент равен среднему значению элементов с i-го по (i+n-1)-й в массиве A."
   ]
  },
  {
   "cell_type": "code",
   "execution_count": 1,
   "id": "abd2eede-ca0c-4ded-a2c6-3fe02c655da9",
   "metadata": {},
   "outputs": [],
   "source": [
    "import numpy as np"
   ]
  },
  {
   "cell_type": "code",
   "execution_count": 2,
   "id": "beedbf4e-e2af-4891-918c-ec4960e7ff52",
   "metadata": {},
   "outputs": [],
   "source": [
    "def moving_avg(a, n):\n",
    "    '''Возвращает массив, в котором каждый элемент\n",
    "    равен скользящему среднему значению элементов\n",
    "    с i-го по (i+n-1)-й\n",
    "        \n",
    "    Parameters\n",
    "    ----------\n",
    "    a : numpy.array\n",
    "        обрабатываемый массив\n",
    "    n : int\n",
    "        диапазон для среднего значения'''\n",
    "    \n",
    "    b = np.zeros(len(a))\n",
    "    for i in range(len(a)):\n",
    "        b[i] = np.mean(a[i:(i+n)])\n",
    "    return b[:-n + 1]"
   ]
  },
  {
   "cell_type": "code",
   "execution_count": 3,
   "id": "9d4f53ba-7707-49c2-b0c4-b63808ec8648",
   "metadata": {},
   "outputs": [
    {
     "data": {
      "text/plain": [
       "array([28, 36, 85, 92, 96, 18, 87, 85, 29, 25])"
      ]
     },
     "execution_count": 3,
     "metadata": {},
     "output_type": "execute_result"
    }
   ],
   "source": [
    "# случайный массив из 10 чисел от 0 до 100\n",
    "a = np.random.choice(100, 10)\n",
    "a"
   ]
  },
  {
   "cell_type": "code",
   "execution_count": 4,
   "id": "0ce8b85e-3c75-4ecc-bbdd-0df76e8c23ef",
   "metadata": {},
   "outputs": [
    {
     "data": {
      "text/plain": [
       "array([49.66666667, 71.        , 91.        , 68.66666667, 67.        ,\n",
       "       63.33333333, 67.        , 46.33333333])"
      ]
     },
     "execution_count": 4,
     "metadata": {},
     "output_type": "execute_result"
    }
   ],
   "source": [
    "n = 3  # скользящее по трём элементам\n",
    "moving_avg(a, n)"
   ]
  },
  {
   "cell_type": "code",
   "execution_count": 5,
   "id": "8bbbd4bf-64f0-4fe4-8af2-55974ad3b5ef",
   "metadata": {},
   "outputs": [
    {
     "data": {
      "text/plain": [
       "array([32. , 60.5, 88.5, 94. , 57. , 52.5, 86. , 57. , 27. ])"
      ]
     },
     "execution_count": 5,
     "metadata": {},
     "output_type": "execute_result"
    }
   ],
   "source": [
    "n = 2  # скользящее по двум элементам\n",
    "moving_avg(a, n)"
   ]
  }
 ],
 "metadata": {
  "kernelspec": {
   "display_name": "Python 3 (ipykernel)",
   "language": "python",
   "name": "python3"
  },
  "language_info": {
   "codemirror_mode": {
    "name": "ipython",
    "version": 3
   },
   "file_extension": ".py",
   "mimetype": "text/x-python",
   "name": "python",
   "nbconvert_exporter": "python",
   "pygments_lexer": "ipython3",
   "version": "3.9.13"
  }
 },
 "nbformat": 4,
 "nbformat_minor": 5
}
